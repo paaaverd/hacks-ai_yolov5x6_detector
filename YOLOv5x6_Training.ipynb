{
  "cells": [
    {
      "cell_type": "markdown",
      "metadata": {
        "id": "733sgE3eeiK7"
      },
      "source": [
        "## Установка необходимых библиотек и загрузка данных"
      ]
    },
    {
      "cell_type": "code",
      "execution_count": null,
      "metadata": {
        "id": "p5tXdbZ4Cv-0"
      },
      "outputs": [],
      "source": [
        "!pip install map-boxes"
      ]
    },
    {
      "cell_type": "code",
      "execution_count": null,
      "metadata": {
        "id": "VkOJXFmilOMb"
      },
      "outputs": [],
      "source": [
        "import os\n",
        "import shutil\n",
        "import pandas as pd\n",
        "from sklearn.model_selection import train_test_split\n",
        "from map_boxes import mean_average_precision_for_boxes\n",
        "import pandas as pd\n",
        "import random"
      ]
    },
    {
      "cell_type": "code",
      "execution_count": null,
      "metadata": {
        "id": "_6oMEgW87rEZ"
      },
      "outputs": [],
      "source": [
        "!git clone https://github.com/ultralytics/yolov5.git\n",
        "!pip install -r /content/yolov5/requirements.txt"
      ]
    },
    {
      "cell_type": "code",
      "execution_count": 4,
      "metadata": {
        "id": "nwGHXHvcyQnh"
      },
      "outputs": [],
      "source": [
        "!mkdir /content/participants"
      ]
    },
    {
      "cell_type": "markdown",
      "metadata": {
        "id": "sIMxt5EzfeWw"
      },
      "source": [
        "Загрузим датасеты в папку participants. Либо в ручном режиме, либо через curl, либо с Google Drive.\n",
        "\n"
      ]
    },
    {
      "cell_type": "code",
      "execution_count": null,
      "metadata": {
        "id": "h3iHJDeJyYo3"
      },
      "outputs": [],
      "source": [
        "!curl https://lodmedia.hb.bizmrg.com/case_files/789899/train_dataset_train.zip -o /content/participants/train.zip\n",
        "!curl https://lodmedia.hb.bizmrg.com/case_files/789899/test_dataset_test.zip -o /content/participants/test.zip"
      ]
    },
    {
      "cell_type": "markdown",
      "metadata": {
        "id": "xSRzco6UfpLL"
      },
      "source": [
        "Разархивируем их"
      ]
    },
    {
      "cell_type": "code",
      "execution_count": 10,
      "metadata": {
        "id": "A53hpiY049qC"
      },
      "outputs": [],
      "source": [
        "!unzip -q /content/participants/train.zip -d /content/participants\n",
        "!unzip -q /content/participants/test.zip -d /content/participants"
      ]
    },
    {
      "cell_type": "markdown",
      "metadata": {
        "id": "4cD3tf9zfvYm"
      },
      "source": [
        "Помотрим на представленные классы"
      ]
    },
    {
      "cell_type": "code",
      "execution_count": null,
      "metadata": {
        "id": "bOBWZga29_c4"
      },
      "outputs": [],
      "source": [
        "pd.Series([file_name.split('_')[-1][:-5] for file_name in os.listdir('participants/train/labels')]).value_counts()"
      ]
    },
    {
      "cell_type": "markdown",
      "source": [
        "## Подготовка данных"
      ],
      "metadata": {
        "id": "QiSMhlFrvt1m"
      }
    },
    {
      "cell_type": "markdown",
      "metadata": {
        "id": "0P8nhx5643K7"
      },
      "source": [
        "Во всех .txt файлах стоит класс 0. Поэтому выставим нужные классы, указанные в условиях задачи (car': 0, 'head': 1, 'face': 2, 'human': 3, 'carplate': 4)"
      ]
    },
    {
      "cell_type": "code",
      "execution_count": 12,
      "metadata": {
        "id": "g8BLfCPSxYOK"
      },
      "outputs": [],
      "source": [
        "for file_name in os.listdir(\"participants/train/labels\"):\n",
        "  file_class = file_name.split(\"_\")[-1][:-5]\n",
        "  file_path = \"participants/train/labels/\" + file_name\n",
        "  f1 = open(file_path, \"r\")\n",
        "  content = f1.readlines()\n",
        "  f1.close()\n",
        "  if file_class == \"head\":\n",
        "    new_content = [\"1\" + line[1:] for line in content]\n",
        "    f2 = open(file_path, \"w\")\n",
        "    f2.writelines(new_content)\n",
        "    f2.close()\n",
        "  elif file_class == \"human\":\n",
        "    new_content = [\"3\" + line[1:] for line in content]\n",
        "    f2 = open(file_path, \"w\")\n",
        "    f2.writelines(new_content)\n",
        "    f2.close()\n",
        "  elif file_class == \"car\":\n",
        "    new_content = [\"0\" + line[1:] for line in content]\n",
        "    f2 = open(file_path, \"w\")\n",
        "    f2.writelines(new_content)\n",
        "    f2.close()\n",
        "  elif file_class == \"face\":\n",
        "    new_content = [\"2\" + line[1:] for line in content]\n",
        "    f2 = open(file_path, \"w\")\n",
        "    f2.writelines(new_content)\n",
        "    f2.close()\n",
        "  elif file_class == \"carplate\":\n",
        "    new_content = [\"4\" + line[1:] for line in content]\n",
        "    f2 = open(file_path, \"w\")\n",
        "    f2.writelines(new_content)\n",
        "    f2.close()\n",
        "  else:\n",
        "    print(\"New class\")"
      ]
    },
    {
      "cell_type": "markdown",
      "metadata": {
        "id": "llf6sMPIgxg5"
      },
      "source": [
        "Создадим обучающий датасет в формате YOLO"
      ]
    },
    {
      "cell_type": "code",
      "execution_count": 13,
      "metadata": {
        "id": "BRJDX-KY-h8H"
      },
      "outputs": [],
      "source": [
        "!mkdir data_for_yolo\n",
        "!mkdir data_for_yolo/data\n",
        "!mkdir data_for_yolo/data/images\n",
        "!mkdir data_for_yolo/data/labels\n",
        "!mkdir data_for_yolo/data/images/train\n",
        "!mkdir data_for_yolo/data/labels/train\n",
        "!mkdir data_for_yolo/data/images/test\n",
        "!mkdir data_for_yolo/data/labels/test"
      ]
    },
    {
      "cell_type": "markdown",
      "metadata": {
        "id": "h_mbUCVVg3Gt"
      },
      "source": [
        "В папке data_for_yolo создадим dataset.yaml со следующим содержимым:"
      ]
    },
    {
      "cell_type": "code",
      "execution_count": 14,
      "metadata": {
        "id": "ixwz4xVvAWf5"
      },
      "outputs": [],
      "source": [
        "yaml_content = \"\"\"\n",
        "train: /content/data_for_yolo/data/images/train/\n",
        "val: /content/data_for_yolo/data/images/test/\n",
        "\n",
        "# number of classes\n",
        "nc: 5\n",
        "\n",
        "# class names\n",
        "names: ['car', 'head', 'face', 'human', 'carplate']\n",
        "\"\"\""
      ]
    },
    {
      "cell_type": "markdown",
      "metadata": {
        "id": "6-b5dk7whFmH"
      },
      "source": [
        "Создадим pandas DataFrame для удобного представления данных"
      ]
    },
    {
      "cell_type": "code",
      "execution_count": null,
      "metadata": {
        "id": "z34VoKvMpwfR"
      },
      "outputs": [],
      "source": [
        "labels = pd.DataFrame(os.listdir(\"/content/participants/train/labels\"), columns=[\"file name\"])\n",
        "labels[\"image name\"] = labels[\"file name\"].apply(lambda x: \"_\".join(x.split(\"_\")[:-1]))\n",
        "labels[\"label\"] = labels[\"file name\"].apply(lambda x: x.split(\"_\")[-1][:-5])\n",
        "labels.head()"
      ]
    },
    {
      "cell_type": "markdown",
      "metadata": {
        "id": "55aYUpd2hT5f"
      },
      "source": [
        "Обнаружим и удалим дубликаты"
      ]
    },
    {
      "cell_type": "code",
      "execution_count": null,
      "metadata": {
        "id": "SdxAtN17yZA5"
      },
      "outputs": [],
      "source": [
        "print(\"Found duplicates: \", labels[\"image name\"].duplicated().sum())\n",
        "images_names = labels[\"image name\"].sort_values().drop_duplicates().tolist()"
      ]
    },
    {
      "cell_type": "markdown",
      "metadata": {
        "id": "sekkhCAzhchw"
      },
      "source": [
        "В исходном датасете для каждого обнаруженного объекта есть свой .txt файл разметки с одной строкой. Для модели YOLO необходимо, чтобы каждой картинке соответствовал один файл разметки. Этот файл должен содержать строки с обнаруженными объектами. Приведём файлы разметки к нужному формату:"
      ]
    },
    {
      "cell_type": "code",
      "execution_count": 17,
      "metadata": {
        "id": "DuSnr6PCzOKw"
      },
      "outputs": [],
      "source": [
        "!mkdir /content/participants/train/new_labels"
      ]
    },
    {
      "cell_type": "code",
      "execution_count": null,
      "metadata": {
        "id": "Rg8krrz3zWmH"
      },
      "outputs": [],
      "source": [
        "from tqdm import tqdm\n",
        "\n",
        "for image_name in tqdm(images_names):\n",
        "  f1 = open(\"./participants/train/new_labels/\" + image_name + \".txt\", \"a+\")\n",
        "  for label_name in os.listdir(\"./participants/train/labels\"):\n",
        "    if image_name == \"_\".join(label_name.split(\"_\")[:-1]):\n",
        "      f2 = open(\"./participants/train/labels/\" + label_name).readlines()\n",
        "      f1.writelines(f2)\n",
        "  f1.close()"
      ]
    },
    {
      "cell_type": "code",
      "execution_count": 19,
      "metadata": {
        "id": "A4cbzrDX3Uhn"
      },
      "outputs": [],
      "source": [
        "new_labels_names = os.listdir(\"/content/participants/train/new_labels\")"
      ]
    },
    {
      "cell_type": "markdown",
      "metadata": {
        "id": "-H3t8WWjlw--"
      },
      "source": [
        "Разделим выборку на обучающую и проверочную. Это код для обучения модели, поэтому почти весь датасет используем в тренировочных целях (для теста остается 5% картинок)\n",
        "\n",
        "\n",
        "\n"
      ]
    },
    {
      "cell_type": "code",
      "execution_count": 20,
      "metadata": {
        "id": "-u2dX5UCq0-1"
      },
      "outputs": [],
      "source": [
        "train_images_names, test_images_names = train_test_split(new_labels_names, test_size=0.05, random_state=42)"
      ]
    },
    {
      "cell_type": "code",
      "execution_count": null,
      "metadata": {
        "id": "H3ehYz71td8Z"
      },
      "outputs": [],
      "source": [
        "train_images_names[:5]"
      ]
    },
    {
      "cell_type": "markdown",
      "metadata": {
        "id": "6KXcjBqYmXcH"
      },
      "source": [
        "Переместим новые файлы разметки в папки для обучения"
      ]
    },
    {
      "cell_type": "code",
      "execution_count": null,
      "metadata": {
        "id": "dUtj98NaKdMv"
      },
      "outputs": [],
      "source": [
        "#train\n",
        "for train_image_label in tqdm(train_images_names):\n",
        "  #labels\n",
        "  shutil.copy('participants/train/new_labels/' + train_image_label, '/content/data_for_yolo/data/labels/train/' + train_image_label)\n",
        "  #images\n",
        "  train_image_name = train_image_label[:-4]\n",
        "  shutil.copy('participants/train/images/' + train_image_name + '.jpg', '/content/data_for_yolo/data/images/train/')\n",
        "\n",
        "#test\n",
        "for test_image_label in tqdm(test_images_names):\n",
        "  #labels\n",
        "  shutil.copy('participants/train/new_labels/' + test_image_label, '/content/data_for_yolo/data/labels/test/' + test_image_label)\n",
        "  #images\n",
        "  test_image_name = test_image_label[:-4]\n",
        "  shutil.copy('participants/train/images/' + test_image_name + '.jpg', '/content/data_for_yolo/data/images/test/')"
      ]
    },
    {
      "cell_type": "markdown",
      "metadata": {
        "id": "kEVrQAiyqY4L"
      },
      "source": [
        "## Обучение"
      ]
    },
    {
      "cell_type": "markdown",
      "metadata": {
        "id": "9vDN2x2kpjuY"
      },
      "source": [
        "Библиотека Albumentations для аугментации данных. Билиотека интегрирована с YOLO."
      ]
    },
    {
      "cell_type": "code",
      "execution_count": null,
      "metadata": {
        "id": "WA91FPkAagMg"
      },
      "outputs": [],
      "source": [
        "!pip install -U albumentations"
      ]
    },
    {
      "cell_type": "code",
      "execution_count": 24,
      "metadata": {
        "id": "LA9f-mEWOLkH"
      },
      "outputs": [],
      "source": [
        "path_to_data = './data_for_yolo/dataset.yaml'"
      ]
    },
    {
      "cell_type": "code",
      "execution_count": null,
      "metadata": {
        "id": "W7AN6he9V9z7"
      },
      "outputs": [],
      "source": [
        "!nvidia-smi"
      ]
    },
    {
      "cell_type": "markdown",
      "source": [
        "Для применения аугментации необходимо указать путь к гиперпараметрам (hyp.scratch-high.yaml). В этом файле содержаться параметры для обучения модели и аугментации. Дальше YOLO сделает всё сам."
      ],
      "metadata": {
        "id": "sK6-lA7Uu42m"
      }
    },
    {
      "cell_type": "code",
      "execution_count": null,
      "metadata": {
        "id": "cWr2R097OJMW"
      },
      "outputs": [],
      "source": [
        "!python ./yolov5/train.py --img 640 --batch 16 --epochs 70 --data {path_to_data} --weights yolov5x6.pt --hyp ./yolov5/data/hyps/hyp.scratch-high.yaml --name yolov5x6_high_results --cache"
      ]
    },
    {
      "cell_type": "markdown",
      "metadata": {
        "id": "_B2nzxI802qf"
      },
      "source": [
        "## Результаты валидации на проверочной выборке"
      ]
    },
    {
      "cell_type": "code",
      "execution_count": null,
      "metadata": {
        "id": "MPWssRhUY_bf"
      },
      "outputs": [],
      "source": [
        "!python3 ./yolov5/detect.py --weights ./yolov5/runs/train/yolov5x6_high_results/weights/best.pt --img 640 --conf 0.5 --source ./data_for_yolo/data/images/test --save-txt --save-conf"
      ]
    },
    {
      "cell_type": "code",
      "execution_count": 29,
      "metadata": {
        "id": "I3rWTnEqc4VF"
      },
      "outputs": [],
      "source": [
        "def get_soliton_labels_df(path_to_txt_folder):\n",
        "  simple_solution = []\n",
        "  for detection_file in os.listdir(path_to_txt_folder):\n",
        "    img_name = detection_file.split('.')[0] + '.jpg'\n",
        "    with open(path_to_txt_folder + detection_file, 'r') as f:\n",
        "      data = f.read()\n",
        "      data = [i for i in data.split('\\n') if i != '']\n",
        "    for line in data:\n",
        "      val = [float(i) for i in line.split()]\n",
        "      cls, xywh, conf = val[0], val[1:5], val[5]\n",
        "      center_x, center_y, width, height = xywh\n",
        "      xmin = center_x - (width / 2)\n",
        "      xmax = center_x + (width / 2)\n",
        "      ymin = center_y - (height / 2)\n",
        "      ymax = center_y + (height / 2)\n",
        "      simple_solution.append([img_name, cls, conf, xmin, xmax, ymin, ymax])\n",
        "  return simple_solution"
      ]
    },
    {
      "cell_type": "code",
      "execution_count": 30,
      "metadata": {
        "id": "U3BxE7oVKMm6"
      },
      "outputs": [],
      "source": [
        "simple_solution = get_soliton_labels_df('yolov5/runs/detect/exp/labels/')\n",
        "simple_solution = pd.DataFrame(simple_solution, columns=['ImageID', 'LabelName', 'Conf', 'XMin', 'XMax', 'YMin', 'YMax'])"
      ]
    },
    {
      "cell_type": "code",
      "execution_count": 31,
      "metadata": {
        "id": "Ftgfdk42OPSw"
      },
      "outputs": [],
      "source": [
        "def get_test_labels_df(path_to_txt_folder):\n",
        "  simple_solution = []\n",
        "  for detection_file in os.listdir(path_to_txt_folder):\n",
        "    img_name = detection_file.split('.')[0] + '.jpg'\n",
        "    with open(path_to_txt_folder + detection_file, 'r') as f:\n",
        "      data = f.read()\n",
        "      data = [i for i in data.split('\\n') if i != '']\n",
        "    for line in data:\n",
        "      val = [float(i) for i in line.split()]\n",
        "      cls, center_x, center_y, width, height = val\n",
        "      xmin = center_x - (width / 2)\n",
        "      xmax = center_x + (width / 2)\n",
        "      ymin = center_y - (height / 2)\n",
        "      ymax = center_y + (height / 2)\n",
        "      simple_solution.append([img_name, cls, xmin, xmax, ymin, ymax])\n",
        "  return simple_solution"
      ]
    },
    {
      "cell_type": "code",
      "execution_count": 32,
      "metadata": {
        "id": "yykCSwcWPMwi"
      },
      "outputs": [],
      "source": [
        "test_labels = get_test_labels_df('data_for_yolo/data/labels/test/')\n",
        "test_labels = pd.DataFrame(test_labels, columns=['ImageID', 'LabelName', 'XMin', 'XMax', 'YMin', 'YMax'])"
      ]
    },
    {
      "cell_type": "code",
      "execution_count": 33,
      "metadata": {
        "id": "m2AKY94kc5pt"
      },
      "outputs": [],
      "source": [
        "mean_ap, average_precisions = mean_average_precision_for_boxes(test_labels, simple_solution, iou_threshold=0.5, verbose=False)"
      ]
    },
    {
      "cell_type": "code",
      "execution_count": null,
      "metadata": {
        "id": "Y5tHgSQ1sAki"
      },
      "outputs": [],
      "source": [
        "print(mean_ap)"
      ]
    }
  ],
  "metadata": {
    "accelerator": "GPU",
    "colab": {
      "collapsed_sections": [],
      "name": "YOLOv5x6 Training.ipynb",
      "provenance": []
    },
    "gpuClass": "standard",
    "kernelspec": {
      "display_name": "Python 3",
      "name": "python3"
    },
    "language_info": {
      "name": "python"
    }
  },
  "nbformat": 4,
  "nbformat_minor": 0
}